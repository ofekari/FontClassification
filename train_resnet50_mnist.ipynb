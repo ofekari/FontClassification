{
 "cells": [
  {
   "cell_type": "code",
   "execution_count": 1,
   "id": "20a8763a-448e-457f-a5a6-465d947c2497",
   "metadata": {},
   "outputs": [],
   "source": [
    "drive=False\n",
    "if drive:\n",
    "    from google.colab import drive\n",
    "    drive.mount('/content/drive')"
   ]
  },
  {
   "cell_type": "markdown",
   "id": "ecc08ba7-885c-4f71-ab0c-58757f41d71a",
   "metadata": {},
   "source": [
    "# Font Classification Project"
   ]
  },
  {
   "cell_type": "code",
   "execution_count": 2,
   "id": "8d7829e8-7c05-4f6e-ab76-ee3659583dca",
   "metadata": {},
   "outputs": [
    {
     "name": "stdout",
     "output_type": "stream",
     "text": [
      "Num GPUs Available:  1\n"
     ]
    }
   ],
   "source": [
    "import tensorflow as tf\n",
    "print(\"Num GPUs Available: \", len(tf.config.list_physical_devices('GPU')))\n",
    "# tf.config.run_functions_eagerly(True)"
   ]
  },
  {
   "cell_type": "markdown",
   "id": "4598ed8f-c414-4c1d-8040-0b4a15e1e3a8",
   "metadata": {},
   "source": [
    "Working with tensorflow and local GPU (GTX 1070)"
   ]
  },
  {
   "cell_type": "markdown",
   "id": "48fbed7c-641d-427a-abd6-dd64d2cd311b",
   "metadata": {},
   "source": [
    "## Functions for data generation"
   ]
  },
  {
   "cell_type": "code",
   "execution_count": 3,
   "id": "139e226d-ab2d-4de7-82d6-a74784cb331a",
   "metadata": {},
   "outputs": [],
   "source": [
    "import h5py\n",
    "import matplotlib.pyplot as plt\n",
    "import cv2\n",
    "import numpy as np\n",
    "import sklearn\n",
    "import sklearn.model_selection"
   ]
  },
  {
   "cell_type": "code",
   "execution_count": 4,
   "id": "89f39825-6693-468e-bab5-e1aa6ab7edee",
   "metadata": {},
   "outputs": [],
   "source": [
    "input_height=64\n",
    "input_width=64"
   ]
  },
  {
   "cell_type": "code",
   "execution_count": 5,
   "id": "2586c5ca-9eb4-4ac5-a28c-62dd83ca2d28",
   "metadata": {},
   "outputs": [],
   "source": [
    "def fonts_to_output(fonts, label_encoder):\n",
    "    label = label_encoder.transform(fonts)\n",
    "    return tf.keras.utils.to_categorical(label, 7)"
   ]
  },
  {
   "cell_type": "code",
   "execution_count": 6,
   "id": "39e3c7ac-eb0e-42de-816c-c4762c432ce8",
   "metadata": {},
   "outputs": [],
   "source": [
    "def crop_wrap_letter(img, bounding_box):\n",
    "    src=bounding_box\n",
    "    input_pts = np.float32(src)\n",
    "    # y comes first in the matrix\n",
    "    output_pts = np.float32([[0, 0],\n",
    "                            [input_height - 1, 0],\n",
    "                            [input_height - 1, input_width - 1],\n",
    "                            [0, input_width - 1]])\n",
    "    # Compute the perspective transform M\n",
    "    M = cv2.getPerspectiveTransform(input_pts,output_pts)\n",
    "    out = cv2.warpPerspective(img,\n",
    "                          M,\n",
    "                          (input_width, input_height),\n",
    "                          flags=cv2.INTER_LINEAR)\n",
    "    return out"
   ]
  },
  {
   "cell_type": "code",
   "execution_count": 7,
   "id": "2eff4b55-4b0b-4cb2-9986-fa681d08d048",
   "metadata": {},
   "outputs": [],
   "source": [
    "def crop_wrap_image(img, charBB, fonts, label_encoder=None):\n",
    "    mini_batch = []\n",
    "    for i in range(fonts.shape[0]):\n",
    "        bounding_box = np.dstack(charBB[:,:,i])[0]  # pairs of x,y\n",
    "        crop = tf.keras.applications.resnet50.preprocess_input(crop_wrap_letter(img, bounding_box))  # Identify as 1 batch of image\n",
    "        mini_batch.append(crop)\n",
    "        crop = crop.reshape((1,input_height,input_width,3))  # Identify as 1 batch of image\n",
    "        if not label_encoder:\n",
    "            yield crop\n",
    "        else:\n",
    "            yield crop, fonts_to_output([fonts[i]], label_encoder)\n",
    "    # mini_batch = np.asarray(mini_batch)\n",
    "    # if not label_encoder:\n",
    "    #     yield mini_batch\n",
    "    # else:\n",
    "    #     yield mini_batch, np.array(label_encoder.transform(fonts).reshape((-1,1)))"
   ]
  },
  {
   "cell_type": "code",
   "execution_count": 8,
   "id": "7c1e30e6-ada8-4a47-8713-a0a659609cb9",
   "metadata": {},
   "outputs": [],
   "source": [
    "def crop_wrap_data(db, im_names, label_encoder=None):\n",
    "    for im in im_names:\n",
    "        img = db['data'][im][:]\n",
    "        fonts = db['data'][im].attrs['font']\n",
    "        txt = db['data'][im].attrs['txt']\n",
    "        charBB = db['data'][im].attrs['charBB']\n",
    "        wordBB = db['data'][im].attrs['wordBB']\n",
    "        \n",
    "        yield from crop_wrap_image(img, charBB, fonts, label_encoder)"
   ]
  },
  {
   "cell_type": "code",
   "execution_count": 9,
   "id": "d22f1a50-464d-46eb-ac71-b4f397fbf676",
   "metadata": {},
   "outputs": [],
   "source": [
    "def data_generator(*args, **kwargs):\n",
    "    while True:\n",
    "        yield from crop_wrap_data(*args, **kwargs)"
   ]
  },
  {
   "cell_type": "code",
   "execution_count": 10,
   "id": "630784aa-70d8-40a6-a90d-b4df772533c3",
   "metadata": {},
   "outputs": [],
   "source": [
    "def font_label_data(db, im_names, label_encoder=None):\n",
    "    for im in im_names:\n",
    "        font = db['data'][im].attrs['font']\n",
    "        \n",
    "        for f in font:\n",
    "            if not label_encoder:\n",
    "                yield f\n",
    "            else:\n",
    "                yield fonts_to_output([f], label_encoder)"
   ]
  },
  {
   "cell_type": "code",
   "execution_count": 11,
   "id": "11659914-734b-434a-917b-5a440151df84",
   "metadata": {},
   "outputs": [],
   "source": [
    "def load_db():\n",
    "    path = 'SynthText.h5' if not drive else '/content/drive/MyDrive/Fonter/SynthText.h5'\n",
    "    db = h5py.File(path, 'r')\n",
    "    im_names = list(db['data'].keys())\n",
    "    return db, im_names"
   ]
  },
  {
   "cell_type": "code",
   "execution_count": 12,
   "id": "4f096a1f-2043-43e3-8706-b91213e3383d",
   "metadata": {},
   "outputs": [],
   "source": [
    "def data_size(db, im_names):\n",
    "    size = 0\n",
    "    for im in im_names:\n",
    "        font = db['data'][im].attrs['font']\n",
    "        size += len(font)\n",
    "    return size"
   ]
  },
  {
   "cell_type": "markdown",
   "id": "0b778c21-028d-4af3-89ee-cb964593c4cd",
   "metadata": {
    "tags": []
   },
   "source": [
    "## Prepare the data"
   ]
  },
  {
   "cell_type": "code",
   "execution_count": 13,
   "id": "2f128aba-d475-42ac-b9bf-43f8c7f2f174",
   "metadata": {},
   "outputs": [],
   "source": [
    "db, im_names = load_db()"
   ]
  },
  {
   "cell_type": "code",
   "execution_count": 14,
   "id": "7e81baf7-bd72-4a32-8aeb-9d67929633bc",
   "metadata": {},
   "outputs": [
    {
     "data": {
      "text/plain": [
       "(array([b'Alex Brush', b'Michroma', b'Open Sans', b'Raleway', b'Roboto',\n",
       "        b'Russo One', b'Ubuntu Mono'], dtype='|S11'),\n",
       " 7)"
      ]
     },
     "execution_count": 14,
     "metadata": {},
     "output_type": "execute_result"
    }
   ],
   "source": [
    "label_encoder = sklearn.preprocessing.LabelEncoder()\n",
    "label_encoder.fit(list(font_label_data(db, im_names)))\n",
    "label_encoder.classes_, len(label_encoder.classes_)"
   ]
  },
  {
   "cell_type": "code",
   "execution_count": 15,
   "id": "37f7364e-7c73-4a0c-9556-54ffe25f5624",
   "metadata": {},
   "outputs": [
    {
     "data": {
      "text/plain": [
       "<function keras.utils.np_utils.to_categorical(y, num_classes=None, dtype='float32')>"
      ]
     },
     "execution_count": 15,
     "metadata": {},
     "output_type": "execute_result"
    }
   ],
   "source": [
    "from tensorflow.keras.datasets import mnist\n",
    "import matplotlib.pyplot as plt\n",
    "(mnist_train, mnist_train_labels), (mnist_test, mnist_test_labels) = mnist.load_data()\n",
    "tf.keras.utils.to_categorical"
   ]
  },
  {
   "cell_type": "code",
   "execution_count": 16,
   "id": "b8ad6bd8-dd67-41c1-a442-9c526e43e52a",
   "metadata": {},
   "outputs": [],
   "source": [
    "train_cat_labels = tf.keras.utils.to_categorical(mnist_train_labels)\n",
    "test_cat_labels = tf.keras.utils.to_categorical(mnist_test_labels)"
   ]
  },
  {
   "cell_type": "code",
   "execution_count": 17,
   "id": "ef44fe93-b2b7-4d74-84c9-63eeab8270b6",
   "metadata": {},
   "outputs": [
    {
     "data": {
      "text/plain": [
       "array([[0., 0., 0., ..., 1., 0., 0.],\n",
       "       [0., 0., 1., ..., 0., 0., 0.],\n",
       "       [0., 1., 0., ..., 0., 0., 0.],\n",
       "       ...,\n",
       "       [0., 0., 0., ..., 0., 0., 0.],\n",
       "       [0., 0., 0., ..., 0., 0., 0.],\n",
       "       [0., 0., 0., ..., 0., 0., 0.]], dtype=float32)"
      ]
     },
     "execution_count": 17,
     "metadata": {},
     "output_type": "execute_result"
    }
   ],
   "source": [
    "test_cat_labels"
   ]
  },
  {
   "cell_type": "code",
   "execution_count": 18,
   "id": "53886ef4-debd-483d-851c-c53a60eabb6e",
   "metadata": {},
   "outputs": [],
   "source": [
    "mnist_train_color = np.array([cv2.resize(cv2.cvtColor(x,cv2.COLOR_GRAY2RGB), (input_height,input_width)) for x in mnist_train])\n",
    "mnist_test_color = np.array([cv2.resize(cv2.cvtColor(x,cv2.COLOR_GRAY2RGB),(input_height,input_width)) for x in mnist_test])"
   ]
  },
  {
   "cell_type": "code",
   "execution_count": 19,
   "id": "ba8bb44b-b1a1-4d5d-9c26-b59ef891324f",
   "metadata": {},
   "outputs": [
    {
     "data": {
      "text/plain": [
       "(10000, 64, 64, 3)"
      ]
     },
     "execution_count": 19,
     "metadata": {},
     "output_type": "execute_result"
    }
   ],
   "source": [
    "mnist_test_color.shape"
   ]
  },
  {
   "cell_type": "code",
   "execution_count": 20,
   "id": "0f0bc835-7fa5-4315-b567-fd77721d654f",
   "metadata": {},
   "outputs": [],
   "source": [
    "partial_data, _ = sklearn.model_selection.train_test_split(im_names, test_size=0.99, random_state = 42)  # testing purposes"
   ]
  },
  {
   "cell_type": "code",
   "execution_count": 21,
   "id": "708308aa-2b98-472b-90bf-88322d8c502e",
   "metadata": {},
   "outputs": [],
   "source": [
    "X_train, X_test = sklearn.model_selection.train_test_split(partial_data, test_size=0.2, random_state = 42)"
   ]
  },
  {
   "cell_type": "code",
   "execution_count": 22,
   "id": "4dee49b1-5a9a-4f8f-9442-6c3ebe45636b",
   "metadata": {},
   "outputs": [],
   "source": [
    "X_train, X_val = sklearn.model_selection.train_test_split(X_train, test_size=0.1, random_state = 42)"
   ]
  },
  {
   "cell_type": "code",
   "execution_count": 23,
   "id": "b9102f44-b4fc-49f7-82cb-891f7b21ae2f",
   "metadata": {},
   "outputs": [],
   "source": [
    "train_data_and_labels = data_generator(db, X_train, label_encoder=label_encoder)\n",
    "val_data_and_labels = data_generator(db, X_val, label_encoder=label_encoder)\n",
    "test_data = data_generator(db, X_test)\n",
    "test_labels = label_encoder.transform(list(font_label_data(db, X_test)))"
   ]
  },
  {
   "cell_type": "code",
   "execution_count": 24,
   "id": "ba439935-77c8-4e0d-8a5d-c4ced34164b5",
   "metadata": {},
   "outputs": [],
   "source": [
    "# size = data_size(db, X_train)\n",
    "# for i, (img, label) in enumerate(train_data_and_labels):\n",
    "#     if i>=size*3:\n",
    "#         break\n",
    "#     if i%size!=0:\n",
    "#         continue\n",
    "#     plt.figure()\n",
    "#     plt.imshow(img.reshape((input_height,input_width,3)))\n",
    "#     plt.title(label[0])"
   ]
  },
  {
   "cell_type": "markdown",
   "id": "77b8d08a-34fc-4e3c-81dc-d08d949b57ff",
   "metadata": {
    "tags": []
   },
   "source": [
    "## Define a model"
   ]
  },
  {
   "cell_type": "code",
   "execution_count": 25,
   "id": "cc3dcba4-72ee-4e80-8c42-1db862250d9d",
   "metadata": {},
   "outputs": [],
   "source": [
    "resnet = tf.keras.applications.resnet50.ResNet50(include_top=False, weights='imagenet', input_shape=(input_height,input_width,3))"
   ]
  },
  {
   "cell_type": "code",
   "execution_count": 26,
   "id": "f3163d2d-e75b-4240-8cf5-98b308d11d00",
   "metadata": {},
   "outputs": [],
   "source": [
    "# Freeze the layers which you don't want to train. Here I am freezing the all layers.\n",
    "resnet.trainable = False\n",
    "resnet.training = False"
   ]
  },
  {
   "cell_type": "code",
   "execution_count": 27,
   "id": "91668ce6-5a9f-4e15-b759-975c6f2ea65f",
   "metadata": {},
   "outputs": [],
   "source": [
    "# inputs = tf.keras.Input(shape=(input_height, input_width, 3))\n",
    "# x = resnet(inputs, training=False)\n",
    "# # x = tf.keras.layers.GlobalAveragePooling2D()(x)\n",
    "# # x = tf.keras.layers.Dropout(0.2)(x)\n",
    "# outputs = tf.keras.layers.Dense(len(label_encoder.classes_), activation='softmax')(x)\n",
    "# fonter = tf.keras.Model(inputs, outputs)\n",
    "\n",
    "# # # ###could be defined as Sequential I think.."
   ]
  },
  {
   "cell_type": "code",
   "execution_count": 28,
   "id": "f5bc5e93-33d7-48e4-8973-8a3a0ed40e0d",
   "metadata": {
    "tags": []
   },
   "outputs": [],
   "source": [
    "fonter = tf.keras.models.Sequential([\n",
    "    tf.keras.layers.Rescaling(1./255, input_shape=(input_height,input_width,3)),\n",
    "    resnet,\n",
    "    tf.keras.layers.GlobalAveragePooling2D(),\n",
    "    tf.keras.layers.Dense(512, activation='relu'),\n",
    "    #tf.keras.layers.Dropout(0.5),\n",
    "    tf.keras.layers.BatchNormalization(),\n",
    "    tf.keras.layers.Dense(512, activation='relu'),\n",
    "    #tf.keras.layers.Dropout(0.5),\n",
    "    tf.keras.layers.BatchNormalization(),\n",
    "    tf.keras.layers.Dense(10, activation=\"softmax\"),\n",
    "])"
   ]
  },
  {
   "cell_type": "code",
   "execution_count": null,
   "id": "e9d86ed0-101b-4002-b568-e9b2553371fa",
   "metadata": {},
   "outputs": [],
   "source": []
  },
  {
   "cell_type": "code",
   "execution_count": 29,
   "id": "39b0cdf2-6e39-4bbe-b334-0ce6622af38c",
   "metadata": {
    "tags": []
   },
   "outputs": [],
   "source": [
    "base_learning_rate = 0.001\n",
    "opt = tf.keras.optimizers.Nadam(learning_rate=base_learning_rate)\n",
    "fonter.compile(optimizer=opt,\n",
    "              loss = \"categorical_crossentropy\",\n",
    "              metrics=['accuracy'])"
   ]
  },
  {
   "cell_type": "code",
   "execution_count": 30,
   "id": "f11b05c4-8e82-45da-9ec0-f49908765784",
   "metadata": {},
   "outputs": [
    {
     "name": "stdout",
     "output_type": "stream",
     "text": [
      "Model: \"sequential\"\n",
      "_________________________________________________________________\n",
      " Layer (type)                Output Shape              Param #   \n",
      "=================================================================\n",
      " rescaling (Rescaling)       (None, 64, 64, 3)         0         \n",
      "                                                                 \n",
      " resnet50 (Functional)       (None, 2, 2, 2048)        23587712  \n",
      "                                                                 \n",
      " global_average_pooling2d (G  (None, 2048)             0         \n",
      " lobalAveragePooling2D)                                          \n",
      "                                                                 \n",
      " dense (Dense)               (None, 512)               1049088   \n",
      "                                                                 \n",
      " batch_normalization (BatchN  (None, 512)              2048      \n",
      " ormalization)                                                   \n",
      "                                                                 \n",
      " dense_1 (Dense)             (None, 512)               262656    \n",
      "                                                                 \n",
      " batch_normalization_1 (Batc  (None, 512)              2048      \n",
      " hNormalization)                                                 \n",
      "                                                                 \n",
      " dense_2 (Dense)             (None, 10)                5130      \n",
      "                                                                 \n",
      "=================================================================\n",
      "Total params: 24,908,682\n",
      "Trainable params: 1,318,922\n",
      "Non-trainable params: 23,589,760\n",
      "_________________________________________________________________\n"
     ]
    }
   ],
   "source": [
    "fonter.summary()"
   ]
  },
  {
   "cell_type": "markdown",
   "id": "ef7b2ee0-d78f-4bdc-9a47-4301ba5a64f7",
   "metadata": {},
   "source": [
    "## Train Model"
   ]
  },
  {
   "cell_type": "code",
   "execution_count": 31,
   "id": "8ad4051e-753e-4760-9e6d-0854a0b86f5a",
   "metadata": {},
   "outputs": [
    {
     "name": "stdout",
     "output_type": "stream",
     "text": [
      "313/313 [==============================] - 14s 29ms/step - loss: 2.4092 - accuracy: 0.0995\n"
     ]
    }
   ],
   "source": [
    "initial_epochs = 10\n",
    "loss0, accuracy0 = fonter.evaluate(mnist_test_color, test_cat_labels)"
   ]
  },
  {
   "cell_type": "code",
   "execution_count": 32,
   "id": "9152e807-393a-4216-8946-d565ba2e67b2",
   "metadata": {},
   "outputs": [
    {
     "name": "stdout",
     "output_type": "stream",
     "text": [
      "initial loss: 2.41\n",
      "initial accuracy: 0.10\n"
     ]
    }
   ],
   "source": [
    "print(\"initial loss: {:.2f}\".format(loss0))\n",
    "print(\"initial accuracy: {:.2f}\".format(accuracy0))"
   ]
  },
  {
   "cell_type": "code",
   "execution_count": 33,
   "id": "e4495a8e-16b4-4081-9f91-7dbfa73d9803",
   "metadata": {},
   "outputs": [
    {
     "name": "stdout",
     "output_type": "stream",
     "text": [
      "Epoch 1/10\n",
      "1875/1875 [==============================] - 74s 38ms/step - loss: 0.2356 - accuracy: 0.9247 - val_loss: 0.4645 - val_accuracy: 0.8639\n",
      "Epoch 2/10\n",
      "1875/1875 [==============================] - 71s 38ms/step - loss: 0.1512 - accuracy: 0.9513 - val_loss: 0.3244 - val_accuracy: 0.8983\n",
      "Epoch 3/10\n",
      "1875/1875 [==============================] - 71s 38ms/step - loss: 0.1300 - accuracy: 0.9574 - val_loss: 0.3231 - val_accuracy: 0.9057\n",
      "Epoch 4/10\n",
      " 101/1875 [>.............................] - ETA: 59s - loss: 0.0922 - accuracy: 0.9734"
     ]
    },
    {
     "ename": "KeyboardInterrupt",
     "evalue": "",
     "output_type": "error",
     "traceback": [
      "\u001b[1;31m---------------------------------------------------------------------------\u001b[0m",
      "\u001b[1;31mKeyboardInterrupt\u001b[0m                         Traceback (most recent call last)",
      "\u001b[1;32m~\\AppData\\Local\\Temp/ipykernel_9852/2530367916.py\u001b[0m in \u001b[0;36m<module>\u001b[1;34m\u001b[0m\n\u001b[1;32m----> 1\u001b[1;33m history = fonter.fit(mnist_train_color, train_cat_labels, batch_size=32,\n\u001b[0m\u001b[0;32m      2\u001b[0m                      \u001b[0mepochs\u001b[0m\u001b[1;33m=\u001b[0m\u001b[0minitial_epochs\u001b[0m\u001b[1;33m,\u001b[0m\u001b[1;33m\u001b[0m\u001b[1;33m\u001b[0m\u001b[0m\n\u001b[0;32m      3\u001b[0m                      \u001b[0mvalidation_data\u001b[0m\u001b[1;33m=\u001b[0m\u001b[1;33m(\u001b[0m\u001b[0mmnist_test_color\u001b[0m\u001b[1;33m,\u001b[0m \u001b[0mtest_cat_labels\u001b[0m\u001b[1;33m)\u001b[0m\u001b[1;33m,\u001b[0m\u001b[1;33m\u001b[0m\u001b[1;33m\u001b[0m\u001b[0m\n\u001b[0;32m      4\u001b[0m                     \u001b[1;31m#validation_data=val_data_and_labels,\u001b[0m\u001b[1;33m\u001b[0m\u001b[1;33m\u001b[0m\u001b[0m\n\u001b[0;32m      5\u001b[0m                     \u001b[1;31m#max_queue_size=1,\u001b[0m\u001b[1;33m\u001b[0m\u001b[1;33m\u001b[0m\u001b[0m\n",
      "\u001b[1;32m~\\AppData\\Roaming\\Python\\Python39\\site-packages\\keras\\utils\\traceback_utils.py\u001b[0m in \u001b[0;36merror_handler\u001b[1;34m(*args, **kwargs)\u001b[0m\n\u001b[0;32m     62\u001b[0m     \u001b[0mfiltered_tb\u001b[0m \u001b[1;33m=\u001b[0m \u001b[1;32mNone\u001b[0m\u001b[1;33m\u001b[0m\u001b[1;33m\u001b[0m\u001b[0m\n\u001b[0;32m     63\u001b[0m     \u001b[1;32mtry\u001b[0m\u001b[1;33m:\u001b[0m\u001b[1;33m\u001b[0m\u001b[1;33m\u001b[0m\u001b[0m\n\u001b[1;32m---> 64\u001b[1;33m       \u001b[1;32mreturn\u001b[0m \u001b[0mfn\u001b[0m\u001b[1;33m(\u001b[0m\u001b[1;33m*\u001b[0m\u001b[0margs\u001b[0m\u001b[1;33m,\u001b[0m \u001b[1;33m**\u001b[0m\u001b[0mkwargs\u001b[0m\u001b[1;33m)\u001b[0m\u001b[1;33m\u001b[0m\u001b[1;33m\u001b[0m\u001b[0m\n\u001b[0m\u001b[0;32m     65\u001b[0m     \u001b[1;32mexcept\u001b[0m \u001b[0mException\u001b[0m \u001b[1;32mas\u001b[0m \u001b[0me\u001b[0m\u001b[1;33m:\u001b[0m  \u001b[1;31m# pylint: disable=broad-except\u001b[0m\u001b[1;33m\u001b[0m\u001b[1;33m\u001b[0m\u001b[0m\n\u001b[0;32m     66\u001b[0m       \u001b[0mfiltered_tb\u001b[0m \u001b[1;33m=\u001b[0m \u001b[0m_process_traceback_frames\u001b[0m\u001b[1;33m(\u001b[0m\u001b[0me\u001b[0m\u001b[1;33m.\u001b[0m\u001b[0m__traceback__\u001b[0m\u001b[1;33m)\u001b[0m\u001b[1;33m\u001b[0m\u001b[1;33m\u001b[0m\u001b[0m\n",
      "\u001b[1;32m~\\AppData\\Roaming\\Python\\Python39\\site-packages\\keras\\engine\\training.py\u001b[0m in \u001b[0;36mfit\u001b[1;34m(self, x, y, batch_size, epochs, verbose, callbacks, validation_split, validation_data, shuffle, class_weight, sample_weight, initial_epoch, steps_per_epoch, validation_steps, validation_batch_size, validation_freq, max_queue_size, workers, use_multiprocessing)\u001b[0m\n\u001b[0;32m   1214\u001b[0m                 _r=1):\n\u001b[0;32m   1215\u001b[0m               \u001b[0mcallbacks\u001b[0m\u001b[1;33m.\u001b[0m\u001b[0mon_train_batch_begin\u001b[0m\u001b[1;33m(\u001b[0m\u001b[0mstep\u001b[0m\u001b[1;33m)\u001b[0m\u001b[1;33m\u001b[0m\u001b[1;33m\u001b[0m\u001b[0m\n\u001b[1;32m-> 1216\u001b[1;33m               \u001b[0mtmp_logs\u001b[0m \u001b[1;33m=\u001b[0m \u001b[0mself\u001b[0m\u001b[1;33m.\u001b[0m\u001b[0mtrain_function\u001b[0m\u001b[1;33m(\u001b[0m\u001b[0miterator\u001b[0m\u001b[1;33m)\u001b[0m\u001b[1;33m\u001b[0m\u001b[1;33m\u001b[0m\u001b[0m\n\u001b[0m\u001b[0;32m   1217\u001b[0m               \u001b[1;32mif\u001b[0m \u001b[0mdata_handler\u001b[0m\u001b[1;33m.\u001b[0m\u001b[0mshould_sync\u001b[0m\u001b[1;33m:\u001b[0m\u001b[1;33m\u001b[0m\u001b[1;33m\u001b[0m\u001b[0m\n\u001b[0;32m   1218\u001b[0m                 \u001b[0mcontext\u001b[0m\u001b[1;33m.\u001b[0m\u001b[0masync_wait\u001b[0m\u001b[1;33m(\u001b[0m\u001b[1;33m)\u001b[0m\u001b[1;33m\u001b[0m\u001b[1;33m\u001b[0m\u001b[0m\n",
      "\u001b[1;32m~\\AppData\\Roaming\\Python\\Python39\\site-packages\\tensorflow\\python\\util\\traceback_utils.py\u001b[0m in \u001b[0;36merror_handler\u001b[1;34m(*args, **kwargs)\u001b[0m\n\u001b[0;32m    148\u001b[0m     \u001b[0mfiltered_tb\u001b[0m \u001b[1;33m=\u001b[0m \u001b[1;32mNone\u001b[0m\u001b[1;33m\u001b[0m\u001b[1;33m\u001b[0m\u001b[0m\n\u001b[0;32m    149\u001b[0m     \u001b[1;32mtry\u001b[0m\u001b[1;33m:\u001b[0m\u001b[1;33m\u001b[0m\u001b[1;33m\u001b[0m\u001b[0m\n\u001b[1;32m--> 150\u001b[1;33m       \u001b[1;32mreturn\u001b[0m \u001b[0mfn\u001b[0m\u001b[1;33m(\u001b[0m\u001b[1;33m*\u001b[0m\u001b[0margs\u001b[0m\u001b[1;33m,\u001b[0m \u001b[1;33m**\u001b[0m\u001b[0mkwargs\u001b[0m\u001b[1;33m)\u001b[0m\u001b[1;33m\u001b[0m\u001b[1;33m\u001b[0m\u001b[0m\n\u001b[0m\u001b[0;32m    151\u001b[0m     \u001b[1;32mexcept\u001b[0m \u001b[0mException\u001b[0m \u001b[1;32mas\u001b[0m \u001b[0me\u001b[0m\u001b[1;33m:\u001b[0m\u001b[1;33m\u001b[0m\u001b[1;33m\u001b[0m\u001b[0m\n\u001b[0;32m    152\u001b[0m       \u001b[0mfiltered_tb\u001b[0m \u001b[1;33m=\u001b[0m \u001b[0m_process_traceback_frames\u001b[0m\u001b[1;33m(\u001b[0m\u001b[0me\u001b[0m\u001b[1;33m.\u001b[0m\u001b[0m__traceback__\u001b[0m\u001b[1;33m)\u001b[0m\u001b[1;33m\u001b[0m\u001b[1;33m\u001b[0m\u001b[0m\n",
      "\u001b[1;32m~\\AppData\\Roaming\\Python\\Python39\\site-packages\\tensorflow\\python\\eager\\def_function.py\u001b[0m in \u001b[0;36m__call__\u001b[1;34m(self, *args, **kwds)\u001b[0m\n\u001b[0;32m    908\u001b[0m \u001b[1;33m\u001b[0m\u001b[0m\n\u001b[0;32m    909\u001b[0m       \u001b[1;32mwith\u001b[0m \u001b[0mOptionalXlaContext\u001b[0m\u001b[1;33m(\u001b[0m\u001b[0mself\u001b[0m\u001b[1;33m.\u001b[0m\u001b[0m_jit_compile\u001b[0m\u001b[1;33m)\u001b[0m\u001b[1;33m:\u001b[0m\u001b[1;33m\u001b[0m\u001b[1;33m\u001b[0m\u001b[0m\n\u001b[1;32m--> 910\u001b[1;33m         \u001b[0mresult\u001b[0m \u001b[1;33m=\u001b[0m \u001b[0mself\u001b[0m\u001b[1;33m.\u001b[0m\u001b[0m_call\u001b[0m\u001b[1;33m(\u001b[0m\u001b[1;33m*\u001b[0m\u001b[0margs\u001b[0m\u001b[1;33m,\u001b[0m \u001b[1;33m**\u001b[0m\u001b[0mkwds\u001b[0m\u001b[1;33m)\u001b[0m\u001b[1;33m\u001b[0m\u001b[1;33m\u001b[0m\u001b[0m\n\u001b[0m\u001b[0;32m    911\u001b[0m \u001b[1;33m\u001b[0m\u001b[0m\n\u001b[0;32m    912\u001b[0m       \u001b[0mnew_tracing_count\u001b[0m \u001b[1;33m=\u001b[0m \u001b[0mself\u001b[0m\u001b[1;33m.\u001b[0m\u001b[0mexperimental_get_tracing_count\u001b[0m\u001b[1;33m(\u001b[0m\u001b[1;33m)\u001b[0m\u001b[1;33m\u001b[0m\u001b[1;33m\u001b[0m\u001b[0m\n",
      "\u001b[1;32m~\\AppData\\Roaming\\Python\\Python39\\site-packages\\tensorflow\\python\\eager\\def_function.py\u001b[0m in \u001b[0;36m_call\u001b[1;34m(self, *args, **kwds)\u001b[0m\n\u001b[0;32m    940\u001b[0m       \u001b[1;31m# In this case we have created variables on the first call, so we run the\u001b[0m\u001b[1;33m\u001b[0m\u001b[1;33m\u001b[0m\u001b[0m\n\u001b[0;32m    941\u001b[0m       \u001b[1;31m# defunned version which is guaranteed to never create variables.\u001b[0m\u001b[1;33m\u001b[0m\u001b[1;33m\u001b[0m\u001b[0m\n\u001b[1;32m--> 942\u001b[1;33m       \u001b[1;32mreturn\u001b[0m \u001b[0mself\u001b[0m\u001b[1;33m.\u001b[0m\u001b[0m_stateless_fn\u001b[0m\u001b[1;33m(\u001b[0m\u001b[1;33m*\u001b[0m\u001b[0margs\u001b[0m\u001b[1;33m,\u001b[0m \u001b[1;33m**\u001b[0m\u001b[0mkwds\u001b[0m\u001b[1;33m)\u001b[0m  \u001b[1;31m# pylint: disable=not-callable\u001b[0m\u001b[1;33m\u001b[0m\u001b[1;33m\u001b[0m\u001b[0m\n\u001b[0m\u001b[0;32m    943\u001b[0m     \u001b[1;32melif\u001b[0m \u001b[0mself\u001b[0m\u001b[1;33m.\u001b[0m\u001b[0m_stateful_fn\u001b[0m \u001b[1;32mis\u001b[0m \u001b[1;32mnot\u001b[0m \u001b[1;32mNone\u001b[0m\u001b[1;33m:\u001b[0m\u001b[1;33m\u001b[0m\u001b[1;33m\u001b[0m\u001b[0m\n\u001b[0;32m    944\u001b[0m       \u001b[1;31m# Release the lock early so that multiple threads can perform the call\u001b[0m\u001b[1;33m\u001b[0m\u001b[1;33m\u001b[0m\u001b[0m\n",
      "\u001b[1;32m~\\AppData\\Roaming\\Python\\Python39\\site-packages\\tensorflow\\python\\eager\\function.py\u001b[0m in \u001b[0;36m__call__\u001b[1;34m(self, *args, **kwargs)\u001b[0m\n\u001b[0;32m   3128\u001b[0m       (graph_function,\n\u001b[0;32m   3129\u001b[0m        filtered_flat_args) = self._maybe_define_function(args, kwargs)\n\u001b[1;32m-> 3130\u001b[1;33m     return graph_function._call_flat(\n\u001b[0m\u001b[0;32m   3131\u001b[0m         filtered_flat_args, captured_inputs=graph_function.captured_inputs)  # pylint: disable=protected-access\n\u001b[0;32m   3132\u001b[0m \u001b[1;33m\u001b[0m\u001b[0m\n",
      "\u001b[1;32m~\\AppData\\Roaming\\Python\\Python39\\site-packages\\tensorflow\\python\\eager\\function.py\u001b[0m in \u001b[0;36m_call_flat\u001b[1;34m(self, args, captured_inputs, cancellation_manager)\u001b[0m\n\u001b[0;32m   1957\u001b[0m         and executing_eagerly):\n\u001b[0;32m   1958\u001b[0m       \u001b[1;31m# No tape is watching; skip to running the function.\u001b[0m\u001b[1;33m\u001b[0m\u001b[1;33m\u001b[0m\u001b[0m\n\u001b[1;32m-> 1959\u001b[1;33m       return self._build_call_outputs(self._inference_function.call(\n\u001b[0m\u001b[0;32m   1960\u001b[0m           ctx, args, cancellation_manager=cancellation_manager))\n\u001b[0;32m   1961\u001b[0m     forward_backward = self._select_forward_and_backward_functions(\n",
      "\u001b[1;32m~\\AppData\\Roaming\\Python\\Python39\\site-packages\\tensorflow\\python\\eager\\function.py\u001b[0m in \u001b[0;36mcall\u001b[1;34m(self, ctx, args, cancellation_manager)\u001b[0m\n\u001b[0;32m    596\u001b[0m       \u001b[1;32mwith\u001b[0m \u001b[0m_InterpolateFunctionError\u001b[0m\u001b[1;33m(\u001b[0m\u001b[0mself\u001b[0m\u001b[1;33m)\u001b[0m\u001b[1;33m:\u001b[0m\u001b[1;33m\u001b[0m\u001b[1;33m\u001b[0m\u001b[0m\n\u001b[0;32m    597\u001b[0m         \u001b[1;32mif\u001b[0m \u001b[0mcancellation_manager\u001b[0m \u001b[1;32mis\u001b[0m \u001b[1;32mNone\u001b[0m\u001b[1;33m:\u001b[0m\u001b[1;33m\u001b[0m\u001b[1;33m\u001b[0m\u001b[0m\n\u001b[1;32m--> 598\u001b[1;33m           outputs = execute.execute(\n\u001b[0m\u001b[0;32m    599\u001b[0m               \u001b[0mstr\u001b[0m\u001b[1;33m(\u001b[0m\u001b[0mself\u001b[0m\u001b[1;33m.\u001b[0m\u001b[0msignature\u001b[0m\u001b[1;33m.\u001b[0m\u001b[0mname\u001b[0m\u001b[1;33m)\u001b[0m\u001b[1;33m,\u001b[0m\u001b[1;33m\u001b[0m\u001b[1;33m\u001b[0m\u001b[0m\n\u001b[0;32m    600\u001b[0m               \u001b[0mnum_outputs\u001b[0m\u001b[1;33m=\u001b[0m\u001b[0mself\u001b[0m\u001b[1;33m.\u001b[0m\u001b[0m_num_outputs\u001b[0m\u001b[1;33m,\u001b[0m\u001b[1;33m\u001b[0m\u001b[1;33m\u001b[0m\u001b[0m\n",
      "\u001b[1;32m~\\AppData\\Roaming\\Python\\Python39\\site-packages\\tensorflow\\python\\eager\\execute.py\u001b[0m in \u001b[0;36mquick_execute\u001b[1;34m(op_name, num_outputs, inputs, attrs, ctx, name)\u001b[0m\n\u001b[0;32m     56\u001b[0m   \u001b[1;32mtry\u001b[0m\u001b[1;33m:\u001b[0m\u001b[1;33m\u001b[0m\u001b[1;33m\u001b[0m\u001b[0m\n\u001b[0;32m     57\u001b[0m     \u001b[0mctx\u001b[0m\u001b[1;33m.\u001b[0m\u001b[0mensure_initialized\u001b[0m\u001b[1;33m(\u001b[0m\u001b[1;33m)\u001b[0m\u001b[1;33m\u001b[0m\u001b[1;33m\u001b[0m\u001b[0m\n\u001b[1;32m---> 58\u001b[1;33m     tensors = pywrap_tfe.TFE_Py_Execute(ctx._handle, device_name, op_name,\n\u001b[0m\u001b[0;32m     59\u001b[0m                                         inputs, attrs, num_outputs)\n\u001b[0;32m     60\u001b[0m   \u001b[1;32mexcept\u001b[0m \u001b[0mcore\u001b[0m\u001b[1;33m.\u001b[0m\u001b[0m_NotOkStatusException\u001b[0m \u001b[1;32mas\u001b[0m \u001b[0me\u001b[0m\u001b[1;33m:\u001b[0m\u001b[1;33m\u001b[0m\u001b[1;33m\u001b[0m\u001b[0m\n",
      "\u001b[1;31mKeyboardInterrupt\u001b[0m: "
     ]
    }
   ],
   "source": [
    "history = fonter.fit(mnist_train_color, train_cat_labels, batch_size=32,\n",
    "                     epochs=initial_epochs,\n",
    "                     validation_data=(mnist_test_color, test_cat_labels),\n",
    "                    #validation_data=val_data_and_labels,\n",
    "                    #max_queue_size=1,\n",
    "                    #steps_per_epoch=data_size(db, X_train),\n",
    "                    #validation_steps=data_size(db, X_val)\n",
    "                    )"
   ]
  },
  {
   "cell_type": "code",
   "execution_count": null,
   "id": "ba5cea5c-2c1c-448d-b7f7-ee4e108f645b",
   "metadata": {},
   "outputs": [],
   "source": [
    "# history = fonter.fit(train_data_and_labels,\n",
    "#                     epochs=initial_epochs,\n",
    "#                     validation_data=val_data_and_labels,\n",
    "#                     max_queue_size=1,\n",
    "#                     steps_per_epoch=data_size(db, X_train),\n",
    "#                     validation_steps=data_size(db, X_val)\n",
    "#                     )"
   ]
  },
  {
   "cell_type": "code",
   "execution_count": null,
   "id": "2b86db37-905d-4689-af9d-78e0b72429f4",
   "metadata": {},
   "outputs": [],
   "source": [
    "acc = history.history['accuracy']\n",
    "val_acc = history.history['val_accuracy']\n",
    "\n",
    "loss = history.history['loss']\n",
    "val_loss = history.history['val_loss']\n",
    "\n",
    "plt.figure(figsize=(8, 8))\n",
    "plt.subplot(2, 1, 1)\n",
    "plt.plot(acc, label='Training Accuracy')\n",
    "plt.plot(val_acc, label='Validation Accuracy')\n",
    "plt.legend(loc='lower right')\n",
    "plt.ylabel('Accuracy')\n",
    "plt.title('Training and Validation Accuracy')\n",
    "\n",
    "plt.subplot(2, 1, 2)\n",
    "plt.plot(loss, label='Training Loss')\n",
    "plt.plot(val_loss, label='Validation Loss')\n",
    "plt.legend(loc='upper right')\n",
    "plt.ylabel('Cross Entropy')\n",
    "plt.title('Training and Validation Loss')\n",
    "plt.xlabel('epoch')\n",
    "plt.show()"
   ]
  },
  {
   "cell_type": "code",
   "execution_count": null,
   "id": "7d704288-b295-45e1-b11c-87dc92fad04e",
   "metadata": {},
   "outputs": [],
   "source": [
    "imgs.shape"
   ]
  },
  {
   "cell_type": "code",
   "execution_count": null,
   "id": "3e4cf2d5-ee31-4976-bc23-963465ef6d7e",
   "metadata": {},
   "outputs": [],
   "source": [
    "fonter.evaluate(imgs, labels, batch_size=1)"
   ]
  },
  {
   "cell_type": "code",
   "execution_count": null,
   "id": "30d6c642-643e-4071-954a-1e81a2d87b0f",
   "metadata": {},
   "outputs": [],
   "source": [
    "predictions = fonter.predict(imgs)"
   ]
  },
  {
   "cell_type": "code",
   "execution_count": null,
   "id": "ce532260-0557-4bad-adf8-ca00fd7d4d5a",
   "metadata": {},
   "outputs": [],
   "source": [
    "np.argmax(predictions, axis=1)"
   ]
  },
  {
   "cell_type": "code",
   "execution_count": null,
   "id": "cb5ce084-da6d-495f-bf2f-e65e67800d52",
   "metadata": {},
   "outputs": [],
   "source": [
    "np.argmax(labels, axis=1)"
   ]
  },
  {
   "cell_type": "code",
   "execution_count": null,
   "id": "73a23b0c-5d73-4e80-aeb4-c480f3a4af1b",
   "metadata": {},
   "outputs": [],
   "source": [
    "for i, (img, label) in enumerate(val_data_and_labels):\n",
    "    if i==data_size(db, X_val)*2:\n",
    "        break\n",
    "    plt.figure()\n",
    "    plt.imshow(img.reshape((input_height,input_width,3)))\n",
    "    plt.title(label[0])"
   ]
  },
  {
   "cell_type": "code",
   "execution_count": null,
   "id": "b0265308-5b96-4243-85a0-bfc7b02b7787",
   "metadata": {},
   "outputs": [],
   "source": [
    "X_train"
   ]
  },
  {
   "cell_type": "code",
   "execution_count": null,
   "id": "486bea18-9a72-4f8d-bea1-1f8ca5a1f245",
   "metadata": {},
   "outputs": [],
   "source": [
    "im_names.index(X_val[0])"
   ]
  },
  {
   "cell_type": "code",
   "execution_count": null,
   "id": "4355c991-eaca-47de-95dc-41a3d8bd6ada",
   "metadata": {},
   "outputs": [],
   "source": [
    "im_names.index(X_train[-1])"
   ]
  },
  {
   "cell_type": "code",
   "execution_count": null,
   "id": "ca8be68b-e13a-4063-a599-8c3962715975",
   "metadata": {},
   "outputs": [],
   "source": [
    "im_names.index(X_test[0])"
   ]
  },
  {
   "cell_type": "code",
   "execution_count": null,
   "id": "1ee09264-397b-4a0d-bfe6-6813565aa8f1",
   "metadata": {},
   "outputs": [],
   "source": []
  }
 ],
 "metadata": {
  "kernelspec": {
   "display_name": "Python 3 (ipykernel)",
   "language": "python",
   "name": "python3"
  },
  "language_info": {
   "codemirror_mode": {
    "name": "ipython",
    "version": 3
   },
   "file_extension": ".py",
   "mimetype": "text/x-python",
   "name": "python",
   "nbconvert_exporter": "python",
   "pygments_lexer": "ipython3",
   "version": "3.9.9"
  }
 },
 "nbformat": 4,
 "nbformat_minor": 5
}
