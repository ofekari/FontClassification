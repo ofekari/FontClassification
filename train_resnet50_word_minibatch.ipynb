{
  "cells": [
    {
      "cell_type": "code",
      "execution_count": 91,
      "id": "20a8763a-448e-457f-a5a6-465d947c2497",
      "metadata": {
        "colab": {
          "base_uri": "https://localhost:8080/"
        },
        "id": "20a8763a-448e-457f-a5a6-465d947c2497",
        "outputId": "76cba635-7277-4be5-9663-fe61ae02a805"
      },
      "outputs": [
        {
          "output_type": "stream",
          "name": "stdout",
          "text": [
            "Drive already mounted at /content/drive; to attempt to forcibly remount, call drive.mount(\"/content/drive\", force_remount=True).\n"
          ]
        }
      ],
      "source": [
        "drive=True\n",
        "if drive:\n",
        "    from google.colab import drive\n",
        "    drive.mount('/content/drive')"
      ]
    },
    {
      "cell_type": "markdown",
      "id": "ecc08ba7-885c-4f71-ab0c-58757f41d71a",
      "metadata": {
        "id": "ecc08ba7-885c-4f71-ab0c-58757f41d71a"
      },
      "source": [
        "# Font Classification Project"
      ]
    },
    {
      "cell_type": "code",
      "execution_count": 92,
      "id": "8d7829e8-7c05-4f6e-ab76-ee3659583dca",
      "metadata": {
        "colab": {
          "base_uri": "https://localhost:8080/"
        },
        "id": "8d7829e8-7c05-4f6e-ab76-ee3659583dca",
        "outputId": "53333f09-cfd0-4fa8-c8fe-c5f3824edec3"
      },
      "outputs": [
        {
          "output_type": "stream",
          "name": "stdout",
          "text": [
            "Num GPUs Available:  0\n"
          ]
        }
      ],
      "source": [
        "import tensorflow as tf\n",
        "print(\"Num GPUs Available: \", len(tf.config.list_physical_devices('GPU')))\n",
        "# tf.config.run_functions_eagerly(True)"
      ]
    },
    {
      "cell_type": "markdown",
      "id": "4598ed8f-c414-4c1d-8040-0b4a15e1e3a8",
      "metadata": {
        "id": "4598ed8f-c414-4c1d-8040-0b4a15e1e3a8"
      },
      "source": [
        "Working with tensorflow and local GPU (GTX 1070)"
      ]
    },
    {
      "cell_type": "markdown",
      "id": "48fbed7c-641d-427a-abd6-dd64d2cd311b",
      "metadata": {
        "id": "48fbed7c-641d-427a-abd6-dd64d2cd311b"
      },
      "source": [
        "## Functions for data generation"
      ]
    },
    {
      "cell_type": "code",
      "execution_count": 93,
      "id": "139e226d-ab2d-4de7-82d6-a74784cb331a",
      "metadata": {
        "id": "139e226d-ab2d-4de7-82d6-a74784cb331a"
      },
      "outputs": [],
      "source": [
        "import h5py\n",
        "import matplotlib.pyplot as plt\n",
        "import cv2\n",
        "import numpy as np\n",
        "import sklearn\n",
        "import sklearn.model_selection"
      ]
    },
    {
      "cell_type": "code",
      "execution_count": 94,
      "id": "89f39825-6693-468e-bab5-e1aa6ab7edee",
      "metadata": {
        "id": "89f39825-6693-468e-bab5-e1aa6ab7edee"
      },
      "outputs": [],
      "source": [
        "input_height=224\n",
        "input_width=224"
      ]
    },
    {
      "cell_type": "code",
      "execution_count": 95,
      "id": "2586c5ca-9eb4-4ac5-a28c-62dd83ca2d28",
      "metadata": {
        "id": "2586c5ca-9eb4-4ac5-a28c-62dd83ca2d28"
      },
      "outputs": [],
      "source": [
        "def fonts_to_output(fonts, label_encoder):\n",
        "    label = label_encoder.transform(fonts)\n",
        "    return tf.keras.utils.to_categorical(label, 7)"
      ]
    },
    {
      "cell_type": "code",
      "execution_count": 96,
      "id": "39e3c7ac-eb0e-42de-816c-c4762c432ce8",
      "metadata": {
        "id": "39e3c7ac-eb0e-42de-816c-c4762c432ce8"
      },
      "outputs": [],
      "source": [
        "def crop_wrap_letter(img, bounding_box):\n",
        "    src=bounding_box\n",
        "    input_pts = np.float32(src)\n",
        "    # y comes first in the matrix\n",
        "    output_pts = np.float32([[0, 0],\n",
        "                            [input_height - 1, 0],\n",
        "                            [input_height - 1, input_width - 1],\n",
        "                            [0, input_width - 1]])\n",
        "    # Compute the perspective transform M\n",
        "    M = cv2.getPerspectiveTransform(input_pts,output_pts)\n",
        "    out = cv2.warpPerspective(img,\n",
        "                          M,\n",
        "                          (input_width, input_height),\n",
        "                          flags=cv2.INTER_LINEAR)\n",
        "    return out"
      ]
    },
    {
      "cell_type": "code",
      "execution_count": 97,
      "id": "2eff4b55-4b0b-4cb2-9986-fa681d08d048",
      "metadata": {
        "id": "2eff4b55-4b0b-4cb2-9986-fa681d08d048"
      },
      "outputs": [],
      "source": [
        "def crop_wrap_image(img, txts, wordBB, fonts, label_encoder=None):\n",
        "    mini_batch = []\n",
        "    mini_batch_fonts = []\n",
        "    i=0\n",
        "    for j in range(len(txts)):\n",
        "        txt = txts[j]\n",
        "        font = fonts[i]\n",
        "        bounding_box = np.dstack(wordBB[:,:,j])[0]  # pairs of x,y\n",
        "        crop = tf.keras.applications.resnet50.preprocess_input(crop_wrap_letter(img, bounding_box))  # Identify as 1 batch of image\n",
        "        mini_batch_fonts.append(font)\n",
        "        mini_batch.append(crop)\n",
        "        crop = crop.reshape((1,input_height,input_width,3))  # Identify as 1 batch of image\n",
        "        # if not label_encoder:\n",
        "        #     yield crop\n",
        "        # else:\n",
        "        #     yield crop, fonts_to_output([font], label_encoder)\n",
        "        i+=len(txt)\n",
        "    mini_batch = np.asarray(mini_batch)\n",
        "    if not label_encoder:\n",
        "        yield mini_batch\n",
        "    else:\n",
        "        yield mini_batch, fonts_to_output(mini_batch_fonts, label_encoder)"
      ]
    },
    {
      "cell_type": "code",
      "execution_count": 98,
      "id": "7c1e30e6-ada8-4a47-8713-a0a659609cb9",
      "metadata": {
        "id": "7c1e30e6-ada8-4a47-8713-a0a659609cb9"
      },
      "outputs": [],
      "source": [
        "def crop_wrap_data(db, im_names, label_encoder=None):\n",
        "    for im in im_names:\n",
        "        img = db['data'][im][:]\n",
        "        fonts = db['data'][im].attrs['font']\n",
        "        txt = db['data'][im].attrs['txt']\n",
        "        charBB = db['data'][im].attrs['charBB']\n",
        "        wordBB = db['data'][im].attrs['wordBB']\n",
        "        \n",
        "        yield from crop_wrap_image(img, txt, wordBB, fonts, label_encoder)"
      ]
    },
    {
      "cell_type": "code",
      "execution_count": 99,
      "id": "d22f1a50-464d-46eb-ac71-b4f397fbf676",
      "metadata": {
        "id": "d22f1a50-464d-46eb-ac71-b4f397fbf676"
      },
      "outputs": [],
      "source": [
        "def data_generator(*args, **kwargs):\n",
        "    while True:\n",
        "        yield from crop_wrap_data(*args, **kwargs)"
      ]
    },
    {
      "cell_type": "code",
      "execution_count": 100,
      "id": "630784aa-70d8-40a6-a90d-b4df772533c3",
      "metadata": {
        "id": "630784aa-70d8-40a6-a90d-b4df772533c3"
      },
      "outputs": [],
      "source": [
        "def font_label_data(db, im_names, label_encoder=None):\n",
        "    for im in im_names:\n",
        "        font = db['data'][im].attrs['font']\n",
        "        txt = db['data'][im].attrs['txt']\n",
        "        i=0\n",
        "        for j in range(len(txt)):\n",
        "            f = font[i]\n",
        "            if not label_encoder:\n",
        "                yield f\n",
        "            else:\n",
        "                yield fonts_to_output([f], label_encoder)\n",
        "            i+=len(txt[j])"
      ]
    },
    {
      "cell_type": "code",
      "execution_count": 101,
      "id": "11659914-734b-434a-917b-5a440151df84",
      "metadata": {
        "id": "11659914-734b-434a-917b-5a440151df84"
      },
      "outputs": [],
      "source": [
        "def load_db():\n",
        "    path = 'SynthText.h5' if not drive else '/content/drive/MyDrive/Fonter/SynthText.h5'\n",
        "    db = h5py.File(path, 'r')\n",
        "    im_names = list(db['data'].keys())\n",
        "    return db, im_names"
      ]
    },
    {
      "cell_type": "code",
      "execution_count": 102,
      "id": "4f096a1f-2043-43e3-8706-b91213e3383d",
      "metadata": {
        "id": "4f096a1f-2043-43e3-8706-b91213e3383d"
      },
      "outputs": [],
      "source": [
        "def data_size(db, im_names):\n",
        "    return len(im_names)"
      ]
    },
    {
      "cell_type": "markdown",
      "id": "0b778c21-028d-4af3-89ee-cb964593c4cd",
      "metadata": {
        "tags": [],
        "id": "0b778c21-028d-4af3-89ee-cb964593c4cd"
      },
      "source": [
        "## Prepare the data"
      ]
    },
    {
      "cell_type": "code",
      "execution_count": 103,
      "id": "2f128aba-d475-42ac-b9bf-43f8c7f2f174",
      "metadata": {
        "id": "2f128aba-d475-42ac-b9bf-43f8c7f2f174"
      },
      "outputs": [],
      "source": [
        "db, im_names = load_db()"
      ]
    },
    {
      "cell_type": "code",
      "execution_count": 104,
      "id": "7e81baf7-bd72-4a32-8aeb-9d67929633bc",
      "metadata": {
        "colab": {
          "base_uri": "https://localhost:8080/"
        },
        "id": "7e81baf7-bd72-4a32-8aeb-9d67929633bc",
        "outputId": "aaa8ba77-0ee9-4a40-a41a-feeb6544118b"
      },
      "outputs": [
        {
          "output_type": "execute_result",
          "data": {
            "text/plain": [
              "(array([b'Alex Brush', b'Michroma', b'Open Sans', b'Raleway', b'Roboto',\n",
              "        b'Russo One', b'Ubuntu Mono'], dtype='|S14'), 7)"
            ]
          },
          "metadata": {},
          "execution_count": 104
        }
      ],
      "source": [
        "label_encoder = sklearn.preprocessing.LabelEncoder()\n",
        "label_encoder.fit(list(font_label_data(db, im_names)))\n",
        "label_encoder.classes_, len(label_encoder.classes_)"
      ]
    },
    {
      "cell_type": "code",
      "execution_count": 105,
      "id": "0f0bc835-7fa5-4315-b567-fd77721d654f",
      "metadata": {
        "id": "0f0bc835-7fa5-4315-b567-fd77721d654f"
      },
      "outputs": [],
      "source": [
        "#partial_data, _ = sklearn.model_selection.train_test_split(im_names, test_size=0.99, random_state = 42)  # testing purposes"
      ]
    },
    {
      "cell_type": "code",
      "execution_count": 106,
      "id": "708308aa-2b98-472b-90bf-88322d8c502e",
      "metadata": {
        "id": "708308aa-2b98-472b-90bf-88322d8c502e"
      },
      "outputs": [],
      "source": [
        "X_train, X_test = sklearn.model_selection.train_test_split(im_names, test_size=0.2, random_state = 42)"
      ]
    },
    {
      "cell_type": "code",
      "execution_count": 107,
      "id": "4dee49b1-5a9a-4f8f-9442-6c3ebe45636b",
      "metadata": {
        "id": "4dee49b1-5a9a-4f8f-9442-6c3ebe45636b"
      },
      "outputs": [],
      "source": [
        "X_train, X_val = sklearn.model_selection.train_test_split(X_train, test_size=0.1, random_state = 42)"
      ]
    },
    {
      "cell_type": "code",
      "execution_count": 108,
      "id": "b9102f44-b4fc-49f7-82cb-891f7b21ae2f",
      "metadata": {
        "id": "b9102f44-b4fc-49f7-82cb-891f7b21ae2f"
      },
      "outputs": [],
      "source": [
        "train_data_and_labels = data_generator(db, X_train, label_encoder=label_encoder)\n",
        "val_data_and_labels = data_generator(db, X_val, label_encoder=label_encoder)\n",
        "test_data = data_generator(db, X_test)\n",
        "test_labels = list(font_label_data(db, X_test))"
      ]
    },
    {
      "cell_type": "code",
      "execution_count": 109,
      "id": "ba439935-77c8-4e0d-8a5d-c4ced34164b5",
      "metadata": {
        "id": "ba439935-77c8-4e0d-8a5d-c4ced34164b5"
      },
      "outputs": [],
      "source": [
        "# size = data_size(db, X_train)\n",
        "# for i, (img, label) in enumerate(train_data_and_labels):\n",
        "#     if i>=size*3:\n",
        "#         break\n",
        "#     if i%size!=0:\n",
        "#         continue\n",
        "#     plt.figure()\n",
        "#     plt.imshow(img.reshape((input_height,input_width,3)))\n",
        "#     plt.title(label[0])"
      ]
    },
    {
      "cell_type": "markdown",
      "id": "77b8d08a-34fc-4e3c-81dc-d08d949b57ff",
      "metadata": {
        "tags": [],
        "id": "77b8d08a-34fc-4e3c-81dc-d08d949b57ff"
      },
      "source": [
        "## Define a model"
      ]
    },
    {
      "cell_type": "code",
      "execution_count": 110,
      "id": "cc3dcba4-72ee-4e80-8c42-1db862250d9d",
      "metadata": {
        "id": "cc3dcba4-72ee-4e80-8c42-1db862250d9d"
      },
      "outputs": [],
      "source": [
        "resnet = tf.keras.applications.resnet50.ResNet50(include_top=False, weights='imagenet', input_shape=(input_height,input_width,3))"
      ]
    },
    {
      "cell_type": "code",
      "execution_count": 111,
      "id": "f3163d2d-e75b-4240-8cf5-98b308d11d00",
      "metadata": {
        "id": "f3163d2d-e75b-4240-8cf5-98b308d11d00"
      },
      "outputs": [],
      "source": [
        "# Freeze the layers which you don't want to train. Here I am freezing the all layers.\n",
        "resnet.trainable = False\n",
        "resnet.training = False"
      ]
    },
    {
      "cell_type": "code",
      "execution_count": 112,
      "id": "91668ce6-5a9f-4e15-b759-975c6f2ea65f",
      "metadata": {
        "id": "91668ce6-5a9f-4e15-b759-975c6f2ea65f"
      },
      "outputs": [],
      "source": [
        "# inputs = tf.keras.Input(shape=(input_height, input_width, 3))\n",
        "# x = resnet(inputs, training=False)\n",
        "# # x = tf.keras.layers.GlobalAveragePooling2D()(x)\n",
        "# # x = tf.keras.layers.Dropout(0.2)(x)\n",
        "# outputs = tf.keras.layers.Dense(len(label_encoder.classes_), activation='softmax')(x)\n",
        "# fonter = tf.keras.Model(inputs, outputs)\n",
        "\n",
        "# # # ###could be defined as Sequential I think.."
      ]
    },
    {
      "cell_type": "code",
      "execution_count": 113,
      "id": "f5bc5e93-33d7-48e4-8973-8a3a0ed40e0d",
      "metadata": {
        "tags": [],
        "id": "f5bc5e93-33d7-48e4-8973-8a3a0ed40e0d"
      },
      "outputs": [],
      "source": [
        "fonter = tf.keras.models.Sequential([\n",
        "    tf.keras.layers.Rescaling(1./255, input_shape=(input_height,input_width,3)),\n",
        "    resnet,\n",
        "    tf.keras.layers.GlobalAveragePooling2D(),\n",
        "    tf.keras.layers.Dense(512, activation='relu'),\n",
        "    #tf.keras.layers.Dropout(0.5),\n",
        "    tf.keras.layers.BatchNormalization(),\n",
        "    tf.keras.layers.Dense(512, activation='relu'),\n",
        "    #tf.keras.layers.Dropout(0.5),\n",
        "    tf.keras.layers.BatchNormalization(),\n",
        "    tf.keras.layers.Dense(len(label_encoder.classes_), activation=\"softmax\"),\n",
        "])"
      ]
    },
    {
      "cell_type": "code",
      "execution_count": 113,
      "id": "e9d86ed0-101b-4002-b568-e9b2553371fa",
      "metadata": {
        "id": "e9d86ed0-101b-4002-b568-e9b2553371fa"
      },
      "outputs": [],
      "source": [
        ""
      ]
    },
    {
      "cell_type": "code",
      "execution_count": 114,
      "id": "39b0cdf2-6e39-4bbe-b334-0ce6622af38c",
      "metadata": {
        "tags": [],
        "id": "39b0cdf2-6e39-4bbe-b334-0ce6622af38c"
      },
      "outputs": [],
      "source": [
        "base_learning_rate = 0.001\n",
        "opt = tf.keras.optimizers.Nadam(learning_rate=base_learning_rate)\n",
        "fonter.compile(optimizer=opt,\n",
        "              loss = tf.keras.losses.CategoricalCrossentropy(from_logits=False),\n",
        "              metrics=['accuracy'])"
      ]
    },
    {
      "cell_type": "code",
      "execution_count": 115,
      "id": "f11b05c4-8e82-45da-9ec0-f49908765784",
      "metadata": {
        "colab": {
          "base_uri": "https://localhost:8080/"
        },
        "id": "f11b05c4-8e82-45da-9ec0-f49908765784",
        "outputId": "09747cc3-4932-4ea6-cdd3-9d25b9fee83b"
      },
      "outputs": [
        {
          "output_type": "stream",
          "name": "stdout",
          "text": [
            "Model: \"sequential_3\"\n",
            "_________________________________________________________________\n",
            " Layer (type)                Output Shape              Param #   \n",
            "=================================================================\n",
            " rescaling_3 (Rescaling)     (None, 224, 224, 3)       0         \n",
            "                                                                 \n",
            " resnet50 (Functional)       (None, 7, 7, 2048)        23587712  \n",
            "                                                                 \n",
            " global_average_pooling2d_3   (None, 2048)             0         \n",
            " (GlobalAveragePooling2D)                                        \n",
            "                                                                 \n",
            " dense_9 (Dense)             (None, 512)               1049088   \n",
            "                                                                 \n",
            " batch_normalization_6 (Batc  (None, 512)              2048      \n",
            " hNormalization)                                                 \n",
            "                                                                 \n",
            " dense_10 (Dense)            (None, 512)               262656    \n",
            "                                                                 \n",
            " batch_normalization_7 (Batc  (None, 512)              2048      \n",
            " hNormalization)                                                 \n",
            "                                                                 \n",
            " dense_11 (Dense)            (None, 7)                 3591      \n",
            "                                                                 \n",
            "=================================================================\n",
            "Total params: 24,907,143\n",
            "Trainable params: 1,317,383\n",
            "Non-trainable params: 23,589,760\n",
            "_________________________________________________________________\n"
          ]
        }
      ],
      "source": [
        "fonter.summary()"
      ]
    },
    {
      "cell_type": "markdown",
      "id": "ef7b2ee0-d78f-4bdc-9a47-4301ba5a64f7",
      "metadata": {
        "id": "ef7b2ee0-d78f-4bdc-9a47-4301ba5a64f7"
      },
      "source": [
        "## Train Model"
      ]
    },
    {
      "cell_type": "code",
      "source": [
        "x= next(crop_wrap_data(db, X_val, label_encoder=label_encoder))"
      ],
      "metadata": {
        "id": "FsXuUOXNLtcQ"
      },
      "id": "FsXuUOXNLtcQ",
      "execution_count": 116,
      "outputs": []
    },
    {
      "cell_type": "code",
      "source": [
        "x[0].shape, x[1].shape"
      ],
      "metadata": {
        "colab": {
          "base_uri": "https://localhost:8080/"
        },
        "id": "P1oVk17mLwwg",
        "outputId": "9b1fe60d-f81b-4d25-eadd-94e60fd8d769"
      },
      "id": "P1oVk17mLwwg",
      "execution_count": 117,
      "outputs": [
        {
          "output_type": "execute_result",
          "data": {
            "text/plain": [
              "((8, 224, 224, 3), (8, 7))"
            ]
          },
          "metadata": {},
          "execution_count": 117
        }
      ]
    },
    {
      "cell_type": "code",
      "execution_count": 118,
      "id": "8ad4051e-753e-4760-9e6d-0854a0b86f5a",
      "metadata": {
        "colab": {
          "base_uri": "https://localhost:8080/"
        },
        "id": "8ad4051e-753e-4760-9e6d-0854a0b86f5a",
        "outputId": "698bc66d-5f81-4bb5-8157-88543b24da15"
      },
      "outputs": [
        {
          "output_type": "stream",
          "name": "stdout",
          "text": [
            "78/78 [==============================] - 96s 1s/step - loss: 2.0017 - accuracy: 0.1544\n"
          ]
        }
      ],
      "source": [
        "initial_epochs = 10\n",
        "loss0, accuracy0 = fonter.evaluate(crop_wrap_data(db, X_val, label_encoder=label_encoder))"
      ]
    },
    {
      "cell_type": "code",
      "execution_count": 119,
      "id": "9152e807-393a-4216-8946-d565ba2e67b2",
      "metadata": {
        "id": "9152e807-393a-4216-8946-d565ba2e67b2"
      },
      "outputs": [],
      "source": [
        "# print(\"initial loss: {:.2f}\".format(loss0))\n",
        "# print(\"initial accuracy: {:.2f}\".format(accuracy0))"
      ]
    },
    {
      "cell_type": "code",
      "execution_count": 120,
      "id": "bd8cb569-6da6-4824-8289-ec5bec2e96a2",
      "metadata": {
        "id": "bd8cb569-6da6-4824-8289-ec5bec2e96a2"
      },
      "outputs": [],
      "source": [
        "# d=list(crop_wrap_data(db, X_train, label_encoder))"
      ]
    },
    {
      "cell_type": "code",
      "execution_count": 121,
      "id": "fcdbe11d-4125-4598-8f8e-af859717cb9f",
      "metadata": {
        "id": "fcdbe11d-4125-4598-8f8e-af859717cb9f"
      },
      "outputs": [],
      "source": [
        "# imgs=np.array([x[0][0] for x in d])\n",
        "# labels=np.array([x[1][0] for x in d])"
      ]
    },
    {
      "cell_type": "code",
      "execution_count": 122,
      "id": "16672176-4774-44da-b6e9-dc326d1aea1a",
      "metadata": {
        "id": "16672176-4774-44da-b6e9-dc326d1aea1a"
      },
      "outputs": [],
      "source": [
        "# imgs.shape"
      ]
    },
    {
      "cell_type": "code",
      "execution_count": 123,
      "id": "e19e48cd-e2e3-4a55-b212-4519feb70fb1",
      "metadata": {
        "id": "e19e48cd-e2e3-4a55-b212-4519feb70fb1"
      },
      "outputs": [],
      "source": [
        "# labels.shape"
      ]
    },
    {
      "cell_type": "code",
      "execution_count": 124,
      "id": "e4495a8e-16b4-4081-9f91-7dbfa73d9803",
      "metadata": {
        "id": "e4495a8e-16b4-4081-9f91-7dbfa73d9803"
      },
      "outputs": [],
      "source": [
        "# history = fonter.fit(imgs, labels, batch_size=32,\n",
        "#                     epochs=100,\n",
        "#                     #validation_data=val_data_and_labels,\n",
        "#                     #max_queue_size=1,\n",
        "#                     #steps_per_epoch=data_size(db, X_train),\n",
        "#                     #validation_steps=data_size(db, X_val)\n",
        "#                     )"
      ]
    },
    {
      "cell_type": "code",
      "execution_count": 125,
      "id": "ba5cea5c-2c1c-448d-b7f7-ee4e108f645b",
      "metadata": {
        "colab": {
          "base_uri": "https://localhost:8080/"
        },
        "id": "ba5cea5c-2c1c-448d-b7f7-ee4e108f645b",
        "outputId": "410f4c4d-a5e5-44b3-bf5c-c9691c69b731"
      },
      "outputs": [
        {
          "output_type": "stream",
          "name": "stdout",
          "text": [
            "Epoch 1/10\n",
            "700/700 [==============================] - 959s 1s/step - loss: 1.9635 - accuracy: 0.2484 - val_loss: 8.0778 - val_accuracy: 0.1939\n",
            "Epoch 2/10\n",
            "700/700 [==============================] - 964s 1s/step - loss: 1.8342 - accuracy: 0.2983 - val_loss: 3.3782 - val_accuracy: 0.2208\n",
            "Epoch 3/10\n",
            "700/700 [==============================] - 946s 1s/step - loss: 1.7701 - accuracy: 0.3253 - val_loss: 9.2897 - val_accuracy: 0.1544\n",
            "Epoch 4/10\n",
            "700/700 [==============================] - 949s 1s/step - loss: 1.7309 - accuracy: 0.3418 - val_loss: 10.3838 - val_accuracy: 0.1526\n",
            "Epoch 5/10\n",
            "700/700 [==============================] - 970s 1s/step - loss: 1.6930 - accuracy: 0.3585 - val_loss: 13.3089 - val_accuracy: 0.1616\n",
            "Epoch 6/10\n",
            "700/700 [==============================] - 982s 1s/step - loss: 1.6661 - accuracy: 0.3707 - val_loss: 4.9322 - val_accuracy: 0.1939\n",
            "Epoch 7/10\n",
            "700/700 [==============================] - 971s 1s/step - loss: 1.6433 - accuracy: 0.3754 - val_loss: 6.5813 - val_accuracy: 0.2047\n",
            "Epoch 8/10\n",
            "700/700 [==============================] - 964s 1s/step - loss: 1.6202 - accuracy: 0.3780 - val_loss: 8.7355 - val_accuracy: 0.1382\n",
            "Epoch 9/10\n",
            "700/700 [==============================] - 960s 1s/step - loss: 1.6074 - accuracy: 0.3905 - val_loss: 9.1056 - val_accuracy: 0.1508\n",
            "Epoch 10/10\n",
            "700/700 [==============================] - 975s 1s/step - loss: 1.5751 - accuracy: 0.4049 - val_loss: 10.3005 - val_accuracy: 0.1706\n"
          ]
        }
      ],
      "source": [
        "history = fonter.fit(train_data_and_labels,\n",
        "                    epochs=initial_epochs,\n",
        "                    validation_data=val_data_and_labels,\n",
        "                    max_queue_size=1,\n",
        "                    steps_per_epoch=data_size(db, X_train),\n",
        "                    validation_steps=data_size(db, X_val)\n",
        "                    )"
      ]
    },
    {
      "cell_type": "code",
      "source": [
        "acc = history.history['accuracy']\n",
        "val_acc = history.history['val_accuracy']\n",
        "\n",
        "loss = history.history['loss']\n",
        "val_loss = history.history['val_loss']\n",
        "\n",
        "plt.figure(figsize=(8, 8))\n",
        "plt.subplot(2, 1, 1)\n",
        "plt.plot(acc, label='Training Accuracy')\n",
        "plt.plot(val_acc, label='Validation Accuracy')\n",
        "plt.legend(loc='lower right')\n",
        "plt.ylabel('Accuracy')\n",
        "plt.title('Training and Validation Accuracy')\n",
        "\n",
        "plt.subplot(2, 1, 2)\n",
        "plt.plot(loss, label='Training Loss')\n",
        "plt.plot(val_loss, label='Validation Loss')\n",
        "plt.legend(loc='upper right')\n",
        "plt.ylabel('Cross Entropy')\n",
        "plt.title('Training and Validation Loss')\n",
        "plt.xlabel('epoch')\n",
        "plt.show()"
      ],
      "metadata": {
        "colab": {
          "base_uri": "https://localhost:8080/",
          "height": 235
        },
        "id": "RUDhext2o6ma",
        "outputId": "72a07e4f-d6e3-4fc1-9005-d178e6c65e84"
      },
      "id": "RUDhext2o6ma",
      "execution_count": 2,
      "outputs": [
        {
          "output_type": "error",
          "ename": "NameError",
          "evalue": "ignored",
          "traceback": [
            "\u001b[0;31m---------------------------------------------------------------------------\u001b[0m",
            "\u001b[0;31mNameError\u001b[0m                                 Traceback (most recent call last)",
            "\u001b[0;32m<ipython-input-2-a0b44f764e79>\u001b[0m in \u001b[0;36m<module>\u001b[0;34m()\u001b[0m\n\u001b[0;32m----> 1\u001b[0;31m \u001b[0macc\u001b[0m \u001b[0;34m=\u001b[0m \u001b[0mhistory\u001b[0m\u001b[0;34m.\u001b[0m\u001b[0mhistory\u001b[0m\u001b[0;34m[\u001b[0m\u001b[0;34m'accuracy'\u001b[0m\u001b[0;34m]\u001b[0m\u001b[0;34m\u001b[0m\u001b[0;34m\u001b[0m\u001b[0m\n\u001b[0m\u001b[1;32m      2\u001b[0m \u001b[0mval_acc\u001b[0m \u001b[0;34m=\u001b[0m \u001b[0mhistory\u001b[0m\u001b[0;34m.\u001b[0m\u001b[0mhistory\u001b[0m\u001b[0;34m[\u001b[0m\u001b[0;34m'val_accuracy'\u001b[0m\u001b[0;34m]\u001b[0m\u001b[0;34m\u001b[0m\u001b[0;34m\u001b[0m\u001b[0m\n\u001b[1;32m      3\u001b[0m \u001b[0;34m\u001b[0m\u001b[0m\n\u001b[1;32m      4\u001b[0m \u001b[0mloss\u001b[0m \u001b[0;34m=\u001b[0m \u001b[0mhistory\u001b[0m\u001b[0;34m.\u001b[0m\u001b[0mhistory\u001b[0m\u001b[0;34m[\u001b[0m\u001b[0;34m'loss'\u001b[0m\u001b[0;34m]\u001b[0m\u001b[0;34m\u001b[0m\u001b[0;34m\u001b[0m\u001b[0m\n\u001b[1;32m      5\u001b[0m \u001b[0mval_loss\u001b[0m \u001b[0;34m=\u001b[0m \u001b[0mhistory\u001b[0m\u001b[0;34m.\u001b[0m\u001b[0mhistory\u001b[0m\u001b[0;34m[\u001b[0m\u001b[0;34m'val_loss'\u001b[0m\u001b[0;34m]\u001b[0m\u001b[0;34m\u001b[0m\u001b[0;34m\u001b[0m\u001b[0m\n",
            "\u001b[0;31mNameError\u001b[0m: name 'history' is not defined"
          ]
        }
      ]
    },
    {
      "cell_type": "code",
      "execution_count": 128,
      "id": "7d704288-b295-45e1-b11c-87dc92fad04e",
      "metadata": {
        "colab": {
          "base_uri": "https://localhost:8080/"
        },
        "id": "7d704288-b295-45e1-b11c-87dc92fad04e",
        "outputId": "f215f25a-e8ee-49b4-c8fb-93dc70483b64"
      },
      "outputs": [
        {
          "output_type": "stream",
          "name": "stdout",
          "text": [
            "195/195 [==============================] - 236s 1s/step - loss: 10.1776 - accuracy: 0.1594\n"
          ]
        }
      ],
      "source": [
        "loss, accuracy = fonter.evaluate(crop_wrap_data(db, X_test, label_encoder=label_encoder))"
      ]
    },
    {
      "cell_type": "code",
      "execution_count": null,
      "id": "3e4cf2d5-ee31-4976-bc23-963465ef6d7e",
      "metadata": {
        "id": "3e4cf2d5-ee31-4976-bc23-963465ef6d7e"
      },
      "outputs": [],
      "source": [
        "fonter.evaluate(imgs, labels, batch_size=1)"
      ]
    },
    {
      "cell_type": "code",
      "execution_count": null,
      "id": "30d6c642-643e-4071-954a-1e81a2d87b0f",
      "metadata": {
        "id": "30d6c642-643e-4071-954a-1e81a2d87b0f"
      },
      "outputs": [],
      "source": [
        "predictions = fonter.predict(imgs)"
      ]
    },
    {
      "cell_type": "code",
      "execution_count": null,
      "id": "ce532260-0557-4bad-adf8-ca00fd7d4d5a",
      "metadata": {
        "id": "ce532260-0557-4bad-adf8-ca00fd7d4d5a"
      },
      "outputs": [],
      "source": [
        "np.argmax(predictions, axis=1)"
      ]
    },
    {
      "cell_type": "code",
      "execution_count": null,
      "id": "cb5ce084-da6d-495f-bf2f-e65e67800d52",
      "metadata": {
        "id": "cb5ce084-da6d-495f-bf2f-e65e67800d52"
      },
      "outputs": [],
      "source": [
        "np.argmax(labels, axis=1)"
      ]
    },
    {
      "cell_type": "code",
      "execution_count": null,
      "id": "73a23b0c-5d73-4e80-aeb4-c480f3a4af1b",
      "metadata": {
        "id": "73a23b0c-5d73-4e80-aeb4-c480f3a4af1b"
      },
      "outputs": [],
      "source": [
        "for i, (img, label) in enumerate(val_data_and_labels):\n",
        "    if i==data_size(db, X_val)*2:\n",
        "        break\n",
        "    plt.figure()\n",
        "    plt.imshow(img.reshape((input_height,input_width,3)))\n",
        "    plt.title(label[0])"
      ]
    },
    {
      "cell_type": "code",
      "execution_count": null,
      "id": "b0265308-5b96-4243-85a0-bfc7b02b7787",
      "metadata": {
        "id": "b0265308-5b96-4243-85a0-bfc7b02b7787"
      },
      "outputs": [],
      "source": [
        "X_train"
      ]
    },
    {
      "cell_type": "code",
      "execution_count": null,
      "id": "486bea18-9a72-4f8d-bea1-1f8ca5a1f245",
      "metadata": {
        "id": "486bea18-9a72-4f8d-bea1-1f8ca5a1f245"
      },
      "outputs": [],
      "source": [
        "im_names.index(X_val[0])"
      ]
    },
    {
      "cell_type": "code",
      "execution_count": null,
      "id": "4355c991-eaca-47de-95dc-41a3d8bd6ada",
      "metadata": {
        "id": "4355c991-eaca-47de-95dc-41a3d8bd6ada"
      },
      "outputs": [],
      "source": [
        "im_names.index(X_train[-1])"
      ]
    },
    {
      "cell_type": "code",
      "execution_count": null,
      "id": "ca8be68b-e13a-4063-a599-8c3962715975",
      "metadata": {
        "id": "ca8be68b-e13a-4063-a599-8c3962715975"
      },
      "outputs": [],
      "source": [
        "im_names.index(X_test[0])"
      ]
    },
    {
      "cell_type": "code",
      "execution_count": null,
      "id": "1ee09264-397b-4a0d-bfe6-6813565aa8f1",
      "metadata": {
        "id": "1ee09264-397b-4a0d-bfe6-6813565aa8f1"
      },
      "outputs": [],
      "source": [
        ""
      ]
    }
  ],
  "metadata": {
    "kernelspec": {
      "display_name": "Python 3 (ipykernel)",
      "language": "python",
      "name": "python3"
    },
    "language_info": {
      "codemirror_mode": {
        "name": "ipython",
        "version": 3
      },
      "file_extension": ".py",
      "mimetype": "text/x-python",
      "name": "python",
      "nbconvert_exporter": "python",
      "pygments_lexer": "ipython3",
      "version": "3.9.9"
    },
    "colab": {
      "name": "train_resnet50_word_minibatch.ipynb",
      "provenance": []
    }
  },
  "nbformat": 4,
  "nbformat_minor": 5
}